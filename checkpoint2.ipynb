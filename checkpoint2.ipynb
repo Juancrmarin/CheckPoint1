{
 "cells": [
  {
   "cell_type": "code",
   "execution_count": 56,
   "metadata": {},
   "outputs": [],
   "source": [
    "# Importante: No modificar ni el nombre ni los argumetos que reciben las funciones, sólo deben escribir\n",
    "# código dentro de las funciones ya definidas.\n",
    "from xml.dom.minidom import Entity\n",
    "import pandas as pd\n",
    "import numpy as np"
   ]
  },
  {
   "cell_type": "code",
   "execution_count": 6,
   "metadata": {},
   "outputs": [],
   "source": [
    "def Ret_Pregunta01():\n",
    "    '''\n",
    "    Debes utilizar Pandas para ingestar en un objeto Dataframe el contenido del archivo provisto \n",
    "    \"GGAL - Cotizaciones historicas.csv\". Este csv contiene información de cotización de la \n",
    "    acción del Banco Galciia SA. Esta función debe tomar la columna máximo y \n",
    "    devolver la suma de los valores de esta, con 4 decimales después de la coma, redondeado.\n",
    "    '''\n",
    "    #Tu código aca:\n",
    "    df_ggal1= pd.read_csv(r'datasets/GGAL - Cotizaciones historicas.csv', encoding= 'utf-8')\n",
    "    sum_max = df_ggal1['maximo'].sum()\n",
    "    return round(sum_max,4)\n",
    "\n",
    "\n",
    "    #return 'Funcion incompleta'"
   ]
  },
  {
   "cell_type": "markdown",
   "metadata": {},
   "source": [
    "*PREGUNTA 2*"
   ]
  },
  {
   "cell_type": "code",
   "execution_count": 121,
   "metadata": {},
   "outputs": [],
   "source": [
    "def Ret_Pregunta02(precio_min, precio_max):\n",
    "    '''\n",
    "    Debes utilizar Pandas para ingestar en un objeto Dataframe el contenido del archivo provisto \n",
    "    \"GGAL - Cotizaciones historicas.csv\". Este csv contiene información de cotización de la \n",
    "    acción del Banco Galciia SA.\n",
    "    Esta función toma como argumentos un precio mínimo y un precio máximo cualquiera sea y\n",
    "    devuelve el promedio correspondiente a la columna \"cierre\" del conjunto resultante\n",
    "    entre [precio_min, precio_max] filtrando por la columna \"apertura\", con 2 decimales después del punto.\n",
    "    PISTA: usar una máscara sobre la columna \"apertura\" y después hacer los cálculos\n",
    "     sobre la columna \"cierre\"\n",
    "    '''\n",
    "    #Tu código aca:\n",
    "    df_ggal1= pd.read_csv(r'datasets/GGAL - Cotizaciones historicas.csv', encoding= 'utf-8')\n",
    "    df_mask = df_ggal1 [(df_ggal1['apertura'] >= precio_min) & (df_ggal1['apertura'] <= precio_max)]\n",
    "    return round(df_mask['cierre'].mean(),2)\n",
    "    #return 'Funcion incompleta'"
   ]
  },
  {
   "cell_type": "markdown",
   "metadata": {},
   "source": [
    "*PREGUNTA 3*"
   ]
  },
  {
   "cell_type": "code",
   "execution_count": 12,
   "metadata": {},
   "outputs": [],
   "source": [
    "def Ret_Pregunta03():\n",
    "    '''\n",
    "    Debes utilizar Pandas para ingestar en un objeto Dataframe el contenido del archivo provisto\n",
    "    \"Fuentes_Consumo_Energia.csv\".\n",
    "    Esta función debe informar la cantidad de registros únicos de la columna Year sin tener en cuenta aquellos con valores faltantes\n",
    "    retornando ese valor en un dato de tipo entero.\n",
    "    '''\n",
    "    #Tu código aca:\n",
    "    df_cons = pd.read_csv(r'datasets/Fuentes_Consumo_Energia.csv', encoding= 'utf-8')\n",
    "    return len(df_cons['Year'].unique())\n",
    "    #return 'Funcion incompleta'"
   ]
  },
  {
   "cell_type": "markdown",
   "metadata": {},
   "source": [
    "*PREGUNTA 4*"
   ]
  },
  {
   "cell_type": "code",
   "execution_count": 22,
   "metadata": {},
   "outputs": [],
   "source": [
    "def Ret_Pregunta04():\n",
    "    '''\n",
    "    Debes utilizar Pandas para ingestar en un objeto Dataframe el contenido del archivo provisto \n",
    "    \"Fuentes_Consumo_Energia.csv\".\n",
    "    Esta función debe informar la cantidad de registros retornando ese valor en un dato de tipo entero.\n",
    "    '''\n",
    "    #Tu código aca:\n",
    "    df_cons = pd.read_csv(r'datasets/Fuentes_Consumo_Energia.csv', encoding= 'utf-8')\n",
    "    return len(df_cons['Entity'].unique())\n",
    "    #return 'Funcion incompleta'"
   ]
  },
  {
   "cell_type": "markdown",
   "metadata": {},
   "source": [
    "*PREGUNTA 5*"
   ]
  },
  {
   "cell_type": "code",
   "execution_count": 53,
   "metadata": {},
   "outputs": [],
   "source": [
    "def Ret_Pregunta05():\n",
    "    '''\n",
    "        Debes utilizar Pandas para ingestar en un objeto Dataframe el contenido del archivo provisto \n",
    "    \"GGAL - Cotizaciones historicas.csv\". Este csv contiene información de cotización de la \n",
    "    acción del Banco Galciia SA. Crear una nueva columna, llamada \"variacion\", que registre\n",
    "    las variaciones de la columna \"máximo\". La función debe devolver el valor máximo de la \n",
    "    columna \"variacion\". \n",
    "    '''\n",
    "    #Tu código aca:  \n",
    "    df_ggal1= pd.read_csv(r'datasets/GGAL - Cotizaciones historicas.csv', encoding= 'utf-8')\n",
    "    df_ggal1['variacion'] = df_ggal1['maximo'].pct_change()\n",
    "    return df_ggal1['variacion'].max()\n",
    "    #return 'Funcion incompleta'\n"
   ]
  },
  {
   "cell_type": "markdown",
   "metadata": {},
   "source": [
    "*PREGUNTA 6*"
   ]
  },
  {
   "cell_type": "code",
   "execution_count": null,
   "metadata": {},
   "outputs": [],
   "source": [
    "def Ret_Pregunta06(m1, m2, m3):\n",
    "    '''\n",
    "    Esta función recibe tres array de Numpy, cada uno de dimensión 2, y devuelve el valor booleano\n",
    "    True si es posible realizar una multiplicación entre las tres matrices (n1 x n2 x n3),\n",
    "    y el valor booleano False si no lo es\n",
    "    Ej:\n",
    "        n1 = np.array([[0,0,0],[1,1,1],[2,2,2]])\n",
    "        n2 = np.array([[3,3],[4,4],[5,5]])\n",
    "        n3 = np.array([1,1],[2,2])\n",
    "        print(Ret_Pregunta06(n1,n2,n3))\n",
    "            True            -> Valor devuelto por la función en este ejemplo\n",
    "        print(Ret_Pregunta06(n2,n1,n3))\n",
    "            False            -> Valor devuelto por la función en este ejemplo\n",
    "    '''\n",
    "    #Tu código aca:\n",
    "    #return 'Funcion incompleta'"
   ]
  },
  {
   "cell_type": "markdown",
   "metadata": {},
   "source": [
    "*PREGUNTA 7*"
   ]
  },
  {
   "cell_type": "code",
   "execution_count": 157,
   "metadata": {},
   "outputs": [],
   "source": [
    "import string\n",
    "\n",
    "\n",
    "def Ret_Pregunta07():\n",
    "    '''\n",
    "    Debes utilizar Pandas para ingestar en un objeto Dataframe el contenido del archivo provisto\n",
    "    \"Fuentes_Consumo_Energia.csv\".\n",
    "    Esta función debe informar cuál de la siguiente lista de países tuvo mayor generacíon de\n",
    "    energía hìdrica (Hydro_Generation_TWh) en el año 2017:\n",
    "        * Argentina\n",
    "        * Germany\n",
    "        * Chile\n",
    "        * Colombia\n",
    "        * Ecuador\n",
    "        * Mexico\n",
    "        * Peru\n",
    "    Debe retornar el valor en un dato de tipo string.\n",
    "    '''\n",
    "    df_cons = pd.read_csv(r'datasets/Fuentes_Consumo_Energia.csv', encoding= 'utf-8')\n",
    "    df_mask2 = df_cons [(   (df_cons['Entity'] == 'Argentina') | \n",
    "                            (df_cons['Entity'] == 'Germany') |\n",
    "                            (df_cons['Entity'] == 'Chile') |\n",
    "                            (df_cons['Entity'] == 'Colombia') |\n",
    "                            (df_cons['Entity'] == 'Ecuador') |\n",
    "                            (df_cons['Entity'] == 'Mexico') |\n",
    "                            (df_cons['Entity'] == 'Peru') ) &\n",
    "                        (df_cons['Year'] == 2017)]\n",
    "    hydro = df_mask2.sort_values('Hydro_Generation_TWh')\n",
    "    hydro_tail = hydro.tail(1)\n",
    "    return str(hydro_tail['Entity'])\n",
    "\n",
    "    #Tu código aca:\n",
    "    return 'Funcion incompleta'\n"
   ]
  },
  {
   "cell_type": "code",
   "execution_count": 158,
   "metadata": {},
   "outputs": [
    {
     "data": {
      "text/plain": [
       "'947    Colombia\\nName: Entity, dtype: object'"
      ]
     },
     "execution_count": 158,
     "metadata": {},
     "output_type": "execute_result"
    }
   ],
   "source": [
    "Ret_Pregunta07()"
   ]
  },
  {
   "cell_type": "markdown",
   "metadata": {},
   "source": [
    "*PREGUNTA 8*"
   ]
  },
  {
   "cell_type": "code",
   "execution_count": 117,
   "metadata": {},
   "outputs": [],
   "source": [
    "def Ret_Pregunta08():\n",
    "    '''\n",
    "        Debes utilizar Pandas para ingestar en un objeto Dataframe el contenido del archivo provisto \n",
    "    \"GGAL - Cotizaciones historicas.csv\". Este csv contiene información de cotización de la \n",
    "    acción del Banco Galciia SA.\n",
    "    Esta función debe calcular el promedio tomando los últimos 100 datos de las columnas \"apertura\"\n",
    "    y \"cierre\", en ese orden, y retornar los dos valores en forma de tupla. Usar dos decimales después\n",
    "    del punto y redondear de ser necesario.\n",
    "    '''\n",
    "    #Tu código aca:\n",
    "    df_ggal1= pd.read_csv(r'datasets/GGAL - Cotizaciones historicas.csv', encoding= 'utf-8')\n",
    "    tail_df = df_ggal1.tail(100)\n",
    "    tail_avg_ap = tail_df['apertura'].mean\n",
    "    tail_avg_ci = tail_df['cierre'].mean\n",
    "    resultado = (round(tail_avg_ap(),2), round(tail_avg_ci(),2))\n",
    "    return resultado"
   ]
  },
  {
   "cell_type": "markdown",
   "metadata": {},
   "source": [
    "*PREGUNTA 9*"
   ]
  },
  {
   "cell_type": "code",
   "execution_count": 134,
   "metadata": {},
   "outputs": [],
   "source": [
    "def Ret_Pregunta09():\n",
    "    '''\n",
    "    Debes utilizar Pandas para ingestar en un objeto Dataframe el contenido del archivo provisto\n",
    "    \"Fuentes_Consumo_Energia.csv\".\n",
    "    Esta función debe la mayor cantidad, en TWh, de energía nuclear generada, agrupando según entidad.\n",
    "    Use dos decimales después del punto.\n",
    "    '''\n",
    "    #Tu código aca:\n",
    "    df_cons = pd.read_csv(r'datasets/Fuentes_Consumo_Energia.csv', encoding= 'utf-8')\n",
    "    df_entities = df_cons.groupby('Entity')['Nuclear_Generation_TWh'].sum()\n",
    "\n",
    "    return round(df_entities.max(),2)"
   ]
  },
  {
   "cell_type": "code",
   "execution_count": 135,
   "metadata": {},
   "outputs": [
    {
     "data": {
      "text/plain": [
       "93087.62"
      ]
     },
     "execution_count": 135,
     "metadata": {},
     "output_type": "execute_result"
    }
   ],
   "source": [
    "Ret_Pregunta09()"
   ]
  },
  {
   "cell_type": "markdown",
   "metadata": {},
   "source": [
    "*PREGUNTA 10*"
   ]
  },
  {
   "cell_type": "code",
   "execution_count": null,
   "metadata": {},
   "outputs": [],
   "source": [
    "def Ret_Pregunta10(lista):\n",
    "    '''\n",
    "    Esta función recibe como parámetro un objeto de la clase Lista() definida en el archivo Lista.py.\n",
    "    Debe recorrer la lista y retornan la cantidad de nodos que posee. Utilizar el método de la clase\n",
    "    Lista llamado getCabecera()\n",
    "    Ejemplo:\n",
    "        lis = Lista()\n",
    "        lista.agregarElemento(1)\n",
    "        lista.agregarElemento(2)\n",
    "        lista.agregarElemento(3)\n",
    "        print(Ret_Pregunta10(lista))\n",
    "            3    -> Debe ser el valor devuelto por la función Ret_Pregunta10() en este ejemplo\n",
    "    '''\n",
    "    #Tu código aca:\n",
    "\n",
    "    return 'Funcion incompleta'"
   ]
  }
 ],
 "metadata": {
  "kernelspec": {
   "display_name": "Python 3.9.7 ('base')",
   "language": "python",
   "name": "python3"
  },
  "language_info": {
   "codemirror_mode": {
    "name": "ipython",
    "version": 3
   },
   "file_extension": ".py",
   "mimetype": "text/x-python",
   "name": "python",
   "nbconvert_exporter": "python",
   "pygments_lexer": "ipython3",
   "version": "3.9.7"
  },
  "orig_nbformat": 4,
  "vscode": {
   "interpreter": {
    "hash": "639eed4ba63ea775a80318a521e311b0dac61843fe8db1701df7b3a3e217322d"
   }
  }
 },
 "nbformat": 4,
 "nbformat_minor": 2
}
